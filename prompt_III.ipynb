{
 "cells": [
  {
   "cell_type": "markdown",
   "metadata": {},
   "source": [
    "# Practical Application III: Comparing Classifiers\n",
    "\n",
    "**Overview**: In this practical application, your goal is to compare the performance of the classifiers we encountered in this section, namely K Nearest Neighbor, Logistic Regression, Decision Trees, and Support Vector Machines.  We will utilize a dataset related to marketing bank products over the telephone.  \n",
    "\n"
   ]
  },
  {
   "cell_type": "markdown",
   "metadata": {},
   "source": [
    "### Getting Started\n",
    "\n",
    "Our dataset comes from the UCI Machine Learning repository [link](https://archive.ics.uci.edu/ml/datasets/bank+marketing).  The data is from a Portugese banking institution and is a collection of the results of multiple marketing campaigns.  We will make use of the article accompanying the dataset [here](CRISP-DM-BANK.pdf) for more information on the data and features.\n",
    "\n"
   ]
  },
  {
   "cell_type": "markdown",
   "metadata": {},
   "source": [
    "### Problem 1: Understanding the Data\n",
    "\n",
    "To gain a better understanding of the data, please read the information provided in the UCI link above, and examine the **Materials and Methods** section of the paper.  How many marketing campaigns does this data represent?"
   ]
  },
  {
   "cell_type": "markdown",
   "metadata": {},
   "source": [
    "# 1. Materials & Methods\n",
    "This project concentrates on marketing long-term deposits to specific consumers using telemarketing calls. To advertise the deposit during a campaign, human agents engage in phone calls to a list of customers.\n",
    "\n",
    "# a.methods\n",
    "This research is based on actual data that was gathered from a Portuguese retail bank of 52944 phone conversations throughout the timeframe between May 2008 and June 2013. Since only 6557 records (12.38 %) are associated with successes, which the dataset is imbalanced.\n",
    "\n",
    "For evaluation purposes, the records were primarily split into training (four years) and test data according to the passage of time (one year). The feature selection and models is performed using the training data, which contains of all contacts made up through June 2012 in a total of 51651 cases."
   ]
  },
  {
   "cell_type": "markdown",
   "metadata": {},
   "source": [
    "### Problem 2: Read in the Data\n",
    "\n",
    "Use pandas to read in the dataset `bank-additional-full.csv` and assign to a meaningful variable name."
   ]
  },
  {
   "cell_type": "code",
   "execution_count": 268,
   "metadata": {},
   "outputs": [],
   "source": [
    "import pandas as pd\n",
    "########\n",
    "from sklearn.svm import SVC\n",
    "import numpy as np\n",
    "import matplotlib.pyplot as plt\n",
    "import seaborn as sns\n",
    "\n",
    "from sklearn.linear_model import LogisticRegression\n",
    "from sklearn.datasets import make_blobs\n",
    "\n",
    "from sklearn import datasets, svm, metrics\n",
    "from sklearn.tree import DecisionTreeClassifier, export_text, plot_tree\n",
    "from sklearn.neighbors import KNeighborsClassifier\n",
    "from sklearn.metrics.pairwise import polynomial_kernel, rbf_kernel\n",
    "from sklearn.pipeline import Pipeline\n",
    "from sklearn.compose import make_column_transformer\n",
    "from sklearn.preprocessing import StandardScaler, OneHotEncoder\n",
    "from sklearn.metrics import classification_report, accuracy_score, recall_score, precision_score, confusion_matrix, ConfusionMatrixDisplay\n",
    "\n",
    "from sklearn.experimental import enable_halving_search_cv\n",
    "from sklearn.model_selection import train_test_split, GridSearchCV, RandomizedSearchCV, HalvingRandomSearchCV, HalvingGridSearchCV\n",
    "\n",
    "import warnings \n",
    "warnings.filterwarnings('ignore')\n"
   ]
  },
  {
   "cell_type": "code",
   "execution_count": 205,
   "metadata": {},
   "outputs": [],
   "source": [
    "#df = pd.read_csv('data/bank-additional/bank-additional-full.csv', sep = ';')\n",
    "df = pd.read_csv('bank-additional-full.csv', sep = ';')"
   ]
  },
  {
   "cell_type": "code",
   "execution_count": 206,
   "metadata": {},
   "outputs": [
    {
     "data": {
      "text/html": [
       "<div>\n",
       "<style scoped>\n",
       "    .dataframe tbody tr th:only-of-type {\n",
       "        vertical-align: middle;\n",
       "    }\n",
       "\n",
       "    .dataframe tbody tr th {\n",
       "        vertical-align: top;\n",
       "    }\n",
       "\n",
       "    .dataframe thead th {\n",
       "        text-align: right;\n",
       "    }\n",
       "</style>\n",
       "<table border=\"1\" class=\"dataframe\">\n",
       "  <thead>\n",
       "    <tr style=\"text-align: right;\">\n",
       "      <th></th>\n",
       "      <th>age</th>\n",
       "      <th>job</th>\n",
       "      <th>marital</th>\n",
       "      <th>education</th>\n",
       "      <th>default</th>\n",
       "      <th>housing</th>\n",
       "      <th>loan</th>\n",
       "      <th>contact</th>\n",
       "      <th>month</th>\n",
       "      <th>day_of_week</th>\n",
       "      <th>...</th>\n",
       "      <th>campaign</th>\n",
       "      <th>pdays</th>\n",
       "      <th>previous</th>\n",
       "      <th>poutcome</th>\n",
       "      <th>emp.var.rate</th>\n",
       "      <th>cons.price.idx</th>\n",
       "      <th>cons.conf.idx</th>\n",
       "      <th>euribor3m</th>\n",
       "      <th>nr.employed</th>\n",
       "      <th>y</th>\n",
       "    </tr>\n",
       "  </thead>\n",
       "  <tbody>\n",
       "    <tr>\n",
       "      <th>0</th>\n",
       "      <td>56</td>\n",
       "      <td>housemaid</td>\n",
       "      <td>married</td>\n",
       "      <td>basic.4y</td>\n",
       "      <td>no</td>\n",
       "      <td>no</td>\n",
       "      <td>no</td>\n",
       "      <td>telephone</td>\n",
       "      <td>may</td>\n",
       "      <td>mon</td>\n",
       "      <td>...</td>\n",
       "      <td>1</td>\n",
       "      <td>999</td>\n",
       "      <td>0</td>\n",
       "      <td>nonexistent</td>\n",
       "      <td>1.1</td>\n",
       "      <td>93.994</td>\n",
       "      <td>-36.4</td>\n",
       "      <td>4.857</td>\n",
       "      <td>5191.0</td>\n",
       "      <td>no</td>\n",
       "    </tr>\n",
       "    <tr>\n",
       "      <th>1</th>\n",
       "      <td>57</td>\n",
       "      <td>services</td>\n",
       "      <td>married</td>\n",
       "      <td>high.school</td>\n",
       "      <td>unknown</td>\n",
       "      <td>no</td>\n",
       "      <td>no</td>\n",
       "      <td>telephone</td>\n",
       "      <td>may</td>\n",
       "      <td>mon</td>\n",
       "      <td>...</td>\n",
       "      <td>1</td>\n",
       "      <td>999</td>\n",
       "      <td>0</td>\n",
       "      <td>nonexistent</td>\n",
       "      <td>1.1</td>\n",
       "      <td>93.994</td>\n",
       "      <td>-36.4</td>\n",
       "      <td>4.857</td>\n",
       "      <td>5191.0</td>\n",
       "      <td>no</td>\n",
       "    </tr>\n",
       "    <tr>\n",
       "      <th>2</th>\n",
       "      <td>37</td>\n",
       "      <td>services</td>\n",
       "      <td>married</td>\n",
       "      <td>high.school</td>\n",
       "      <td>no</td>\n",
       "      <td>yes</td>\n",
       "      <td>no</td>\n",
       "      <td>telephone</td>\n",
       "      <td>may</td>\n",
       "      <td>mon</td>\n",
       "      <td>...</td>\n",
       "      <td>1</td>\n",
       "      <td>999</td>\n",
       "      <td>0</td>\n",
       "      <td>nonexistent</td>\n",
       "      <td>1.1</td>\n",
       "      <td>93.994</td>\n",
       "      <td>-36.4</td>\n",
       "      <td>4.857</td>\n",
       "      <td>5191.0</td>\n",
       "      <td>no</td>\n",
       "    </tr>\n",
       "    <tr>\n",
       "      <th>3</th>\n",
       "      <td>40</td>\n",
       "      <td>admin.</td>\n",
       "      <td>married</td>\n",
       "      <td>basic.6y</td>\n",
       "      <td>no</td>\n",
       "      <td>no</td>\n",
       "      <td>no</td>\n",
       "      <td>telephone</td>\n",
       "      <td>may</td>\n",
       "      <td>mon</td>\n",
       "      <td>...</td>\n",
       "      <td>1</td>\n",
       "      <td>999</td>\n",
       "      <td>0</td>\n",
       "      <td>nonexistent</td>\n",
       "      <td>1.1</td>\n",
       "      <td>93.994</td>\n",
       "      <td>-36.4</td>\n",
       "      <td>4.857</td>\n",
       "      <td>5191.0</td>\n",
       "      <td>no</td>\n",
       "    </tr>\n",
       "    <tr>\n",
       "      <th>4</th>\n",
       "      <td>56</td>\n",
       "      <td>services</td>\n",
       "      <td>married</td>\n",
       "      <td>high.school</td>\n",
       "      <td>no</td>\n",
       "      <td>no</td>\n",
       "      <td>yes</td>\n",
       "      <td>telephone</td>\n",
       "      <td>may</td>\n",
       "      <td>mon</td>\n",
       "      <td>...</td>\n",
       "      <td>1</td>\n",
       "      <td>999</td>\n",
       "      <td>0</td>\n",
       "      <td>nonexistent</td>\n",
       "      <td>1.1</td>\n",
       "      <td>93.994</td>\n",
       "      <td>-36.4</td>\n",
       "      <td>4.857</td>\n",
       "      <td>5191.0</td>\n",
       "      <td>no</td>\n",
       "    </tr>\n",
       "  </tbody>\n",
       "</table>\n",
       "<p>5 rows × 21 columns</p>\n",
       "</div>"
      ],
      "text/plain": [
       "   age        job  marital    education  default housing loan    contact  \\\n",
       "0   56  housemaid  married     basic.4y       no      no   no  telephone   \n",
       "1   57   services  married  high.school  unknown      no   no  telephone   \n",
       "2   37   services  married  high.school       no     yes   no  telephone   \n",
       "3   40     admin.  married     basic.6y       no      no   no  telephone   \n",
       "4   56   services  married  high.school       no      no  yes  telephone   \n",
       "\n",
       "  month day_of_week  ...  campaign  pdays  previous     poutcome emp.var.rate  \\\n",
       "0   may         mon  ...         1    999         0  nonexistent          1.1   \n",
       "1   may         mon  ...         1    999         0  nonexistent          1.1   \n",
       "2   may         mon  ...         1    999         0  nonexistent          1.1   \n",
       "3   may         mon  ...         1    999         0  nonexistent          1.1   \n",
       "4   may         mon  ...         1    999         0  nonexistent          1.1   \n",
       "\n",
       "   cons.price.idx  cons.conf.idx  euribor3m  nr.employed   y  \n",
       "0          93.994          -36.4      4.857       5191.0  no  \n",
       "1          93.994          -36.4      4.857       5191.0  no  \n",
       "2          93.994          -36.4      4.857       5191.0  no  \n",
       "3          93.994          -36.4      4.857       5191.0  no  \n",
       "4          93.994          -36.4      4.857       5191.0  no  \n",
       "\n",
       "[5 rows x 21 columns]"
      ]
     },
     "execution_count": 206,
     "metadata": {},
     "output_type": "execute_result"
    }
   ],
   "source": [
    "df.head()"
   ]
  },
  {
   "cell_type": "code",
   "execution_count": 207,
   "metadata": {},
   "outputs": [
    {
     "data": {
      "text/plain": [
       "(41188, 21)"
      ]
     },
     "execution_count": 207,
     "metadata": {},
     "output_type": "execute_result"
    }
   ],
   "source": [
    "#\n",
    "df.shape"
   ]
  },
  {
   "cell_type": "markdown",
   "metadata": {},
   "source": [
    "### Problem 3: Understanding the Features\n",
    "\n",
    "\n",
    "Examine the data description below, and determine if any of the features are missing values or need to be coerced to a different data type.\n",
    "\n",
    "\n",
    "```\n",
    "Input variables:\n",
    "# bank client data:\n",
    "1 - age (numeric)\n",
    "2 - job : type of job (categorical: 'admin.','blue-collar','entrepreneur','housemaid','management','retired','self-employed','services','student','technician','unemployed','unknown')\n",
    "3 - marital : marital status (categorical: 'divorced','married','single','unknown'; note: 'divorced' means divorced or widowed)\n",
    "4 - education (categorical: 'basic.4y','basic.6y','basic.9y','high.school','illiterate','professional.course','university.degree','unknown')\n",
    "5 - default: has credit in default? (categorical: 'no','yes','unknown')\n",
    "6 - housing: has housing loan? (categorical: 'no','yes','unknown')\n",
    "7 - loan: has personal loan? (categorical: 'no','yes','unknown')\n",
    "# related with the last contact of the current campaign:\n",
    "8 - contact: contact communication type (categorical: 'cellular','telephone')\n",
    "9 - month: last contact month of year (categorical: 'jan', 'feb', 'mar', ..., 'nov', 'dec')\n",
    "10 - day_of_week: last contact day of the week (categorical: 'mon','tue','wed','thu','fri')\n",
    "11 - duration: last contact duration, in seconds (numeric). Important note: this attribute highly affects the output target (e.g., if duration=0 then y='no'). Yet, the duration is not known before a call is performed. Also, after the end of the call y is obviously known. Thus, this input should only be included for benchmark purposes and should be discarded if the intention is to have a realistic predictive model.\n",
    "# other attributes:\n",
    "12 - campaign: number of contacts performed during this campaign and for this client (numeric, includes last contact)\n",
    "13 - pdays: number of days that passed by after the client was last contacted from a previous campaign (numeric; 999 means client was not previously contacted)\n",
    "14 - previous: number of contacts performed before this campaign and for this client (numeric)\n",
    "15 - poutcome: outcome of the previous marketing campaign (categorical: 'failure','nonexistent','success')\n",
    "# social and economic context attributes\n",
    "16 - emp.var.rate: employment variation rate - quarterly indicator (numeric)\n",
    "17 - cons.price.idx: consumer price index - monthly indicator (numeric)\n",
    "18 - cons.conf.idx: consumer confidence index - monthly indicator (numeric)\n",
    "19 - euribor3m: euribor 3 month rate - daily indicator (numeric)\n",
    "20 - nr.employed: number of employees - quarterly indicator (numeric)\n",
    "\n",
    "Output variable (desired target):\n",
    "21 - y - has the client subscribed a term deposit? (binary: 'yes','no')\n",
    "```\n",
    "\n"
   ]
  },
  {
   "cell_type": "markdown",
   "metadata": {},
   "source": [
    "# 3. solution\n",
    "Features of the data\n",
    "\n",
    "mostly all the categories of the data variables very determined with the given data type of each columns, no change of the data type,"
   ]
  },
  {
   "cell_type": "markdown",
   "metadata": {},
   "source": [
    "### Problem 4: Understanding the Task\n",
    "\n",
    "After examining the description and data, your goal now is to clearly state the *Business Objective* of the task.  State the objective below."
   ]
  },
  {
   "cell_type": "markdown",
   "metadata": {},
   "source": [
    "# 4. Objective\n",
    "Our goal is to determine, based on the significance of the various types of customers, which ones should be targeted by the marketing department of the company in order to produce better and more effective telemarketing.\n"
   ]
  },
  {
   "cell_type": "markdown",
   "metadata": {},
   "source": [
    "### Problem 5: Engineering Features\n",
    "\n",
    "Now that you understand your business objective, we will build a basic model to get started.  Before we can do this, we must work to encode the data.  Using just the bank information features (columns 1 - 7), prepare the features and target column for modeling with appropriate encoding and transformations."
   ]
  },
  {
   "cell_type": "code",
   "execution_count": 208,
   "metadata": {},
   "outputs": [
    {
     "data": {
      "text/html": [
       "<div>\n",
       "<style scoped>\n",
       "    .dataframe tbody tr th:only-of-type {\n",
       "        vertical-align: middle;\n",
       "    }\n",
       "\n",
       "    .dataframe tbody tr th {\n",
       "        vertical-align: top;\n",
       "    }\n",
       "\n",
       "    .dataframe thead th {\n",
       "        text-align: right;\n",
       "    }\n",
       "</style>\n",
       "<table border=\"1\" class=\"dataframe\">\n",
       "  <thead>\n",
       "    <tr style=\"text-align: right;\">\n",
       "      <th></th>\n",
       "      <th>age</th>\n",
       "      <th>job</th>\n",
       "      <th>marital</th>\n",
       "      <th>education</th>\n",
       "      <th>default</th>\n",
       "      <th>housing</th>\n",
       "      <th>loan</th>\n",
       "      <th>y</th>\n",
       "    </tr>\n",
       "  </thead>\n",
       "  <tbody>\n",
       "    <tr>\n",
       "      <th>0</th>\n",
       "      <td>56</td>\n",
       "      <td>housemaid</td>\n",
       "      <td>married</td>\n",
       "      <td>basic.4y</td>\n",
       "      <td>no</td>\n",
       "      <td>no</td>\n",
       "      <td>no</td>\n",
       "      <td>no</td>\n",
       "    </tr>\n",
       "    <tr>\n",
       "      <th>1</th>\n",
       "      <td>57</td>\n",
       "      <td>services</td>\n",
       "      <td>married</td>\n",
       "      <td>high.school</td>\n",
       "      <td>unknown</td>\n",
       "      <td>no</td>\n",
       "      <td>no</td>\n",
       "      <td>no</td>\n",
       "    </tr>\n",
       "    <tr>\n",
       "      <th>2</th>\n",
       "      <td>37</td>\n",
       "      <td>services</td>\n",
       "      <td>married</td>\n",
       "      <td>high.school</td>\n",
       "      <td>no</td>\n",
       "      <td>yes</td>\n",
       "      <td>no</td>\n",
       "      <td>no</td>\n",
       "    </tr>\n",
       "    <tr>\n",
       "      <th>3</th>\n",
       "      <td>40</td>\n",
       "      <td>admin.</td>\n",
       "      <td>married</td>\n",
       "      <td>basic.6y</td>\n",
       "      <td>no</td>\n",
       "      <td>no</td>\n",
       "      <td>no</td>\n",
       "      <td>no</td>\n",
       "    </tr>\n",
       "    <tr>\n",
       "      <th>4</th>\n",
       "      <td>56</td>\n",
       "      <td>services</td>\n",
       "      <td>married</td>\n",
       "      <td>high.school</td>\n",
       "      <td>no</td>\n",
       "      <td>no</td>\n",
       "      <td>yes</td>\n",
       "      <td>no</td>\n",
       "    </tr>\n",
       "  </tbody>\n",
       "</table>\n",
       "</div>"
      ],
      "text/plain": [
       "   age        job  marital    education  default housing loan   y\n",
       "0   56  housemaid  married     basic.4y       no      no   no  no\n",
       "1   57   services  married  high.school  unknown      no   no  no\n",
       "2   37   services  married  high.school       no     yes   no  no\n",
       "3   40     admin.  married     basic.6y       no      no   no  no\n",
       "4   56   services  married  high.school       no      no  yes  no"
      ]
     },
     "execution_count": 208,
     "metadata": {},
     "output_type": "execute_result"
    }
   ],
   "source": [
    "df1 = df[['age', 'job', 'marital', 'education', 'default', 'housing', 'loan', 'y']]\n",
    "\n",
    "df1.head()"
   ]
  },
  {
   "cell_type": "code",
   "execution_count": 265,
   "metadata": {},
   "outputs": [
    {
     "data": {
      "text/html": [
       "<div>\n",
       "<style scoped>\n",
       "    .dataframe tbody tr th:only-of-type {\n",
       "        vertical-align: middle;\n",
       "    }\n",
       "\n",
       "    .dataframe tbody tr th {\n",
       "        vertical-align: top;\n",
       "    }\n",
       "\n",
       "    .dataframe thead th {\n",
       "        text-align: right;\n",
       "    }\n",
       "</style>\n",
       "<table border=\"1\" class=\"dataframe\">\n",
       "  <thead>\n",
       "    <tr style=\"text-align: right;\">\n",
       "      <th></th>\n",
       "      <th>age</th>\n",
       "      <th>job_blue-collar</th>\n",
       "      <th>job_entrepreneur</th>\n",
       "      <th>job_housemaid</th>\n",
       "      <th>job_management</th>\n",
       "      <th>job_retired</th>\n",
       "      <th>job_self-employed</th>\n",
       "      <th>job_services</th>\n",
       "      <th>job_student</th>\n",
       "      <th>job_technician</th>\n",
       "      <th>...</th>\n",
       "      <th>education_professional.course</th>\n",
       "      <th>education_university.degree</th>\n",
       "      <th>education_unknown</th>\n",
       "      <th>default_unknown</th>\n",
       "      <th>default_yes</th>\n",
       "      <th>housing_unknown</th>\n",
       "      <th>housing_yes</th>\n",
       "      <th>loan_unknown</th>\n",
       "      <th>loan_yes</th>\n",
       "      <th>y_yes</th>\n",
       "    </tr>\n",
       "  </thead>\n",
       "  <tbody>\n",
       "    <tr>\n",
       "      <th>0</th>\n",
       "      <td>56</td>\n",
       "      <td>0</td>\n",
       "      <td>0</td>\n",
       "      <td>1</td>\n",
       "      <td>0</td>\n",
       "      <td>0</td>\n",
       "      <td>0</td>\n",
       "      <td>0</td>\n",
       "      <td>0</td>\n",
       "      <td>0</td>\n",
       "      <td>...</td>\n",
       "      <td>0</td>\n",
       "      <td>0</td>\n",
       "      <td>0</td>\n",
       "      <td>0</td>\n",
       "      <td>0</td>\n",
       "      <td>0</td>\n",
       "      <td>0</td>\n",
       "      <td>0</td>\n",
       "      <td>0</td>\n",
       "      <td>0</td>\n",
       "    </tr>\n",
       "    <tr>\n",
       "      <th>1</th>\n",
       "      <td>57</td>\n",
       "      <td>0</td>\n",
       "      <td>0</td>\n",
       "      <td>0</td>\n",
       "      <td>0</td>\n",
       "      <td>0</td>\n",
       "      <td>0</td>\n",
       "      <td>1</td>\n",
       "      <td>0</td>\n",
       "      <td>0</td>\n",
       "      <td>...</td>\n",
       "      <td>0</td>\n",
       "      <td>0</td>\n",
       "      <td>0</td>\n",
       "      <td>1</td>\n",
       "      <td>0</td>\n",
       "      <td>0</td>\n",
       "      <td>0</td>\n",
       "      <td>0</td>\n",
       "      <td>0</td>\n",
       "      <td>0</td>\n",
       "    </tr>\n",
       "  </tbody>\n",
       "</table>\n",
       "<p>2 rows × 29 columns</p>\n",
       "</div>"
      ],
      "text/plain": [
       "   age  job_blue-collar  job_entrepreneur  job_housemaid  job_management  \\\n",
       "0   56                0                 0              1               0   \n",
       "1   57                0                 0              0               0   \n",
       "\n",
       "   job_retired  job_self-employed  job_services  job_student  job_technician  \\\n",
       "0            0                  0             0            0               0   \n",
       "1            0                  0             1            0               0   \n",
       "\n",
       "   ...  education_professional.course  education_university.degree  \\\n",
       "0  ...                              0                            0   \n",
       "1  ...                              0                            0   \n",
       "\n",
       "   education_unknown  default_unknown  default_yes  housing_unknown  \\\n",
       "0                  0                0            0                0   \n",
       "1                  0                1            0                0   \n",
       "\n",
       "   housing_yes  loan_unknown  loan_yes  y_yes  \n",
       "0            0             0         0      0  \n",
       "1            0             0         0      0  \n",
       "\n",
       "[2 rows x 29 columns]"
      ]
     },
     "execution_count": 265,
     "metadata": {},
     "output_type": "execute_result"
    }
   ],
   "source": [
    "df2 = pd.get_dummies(df1,drop_first=True)\n",
    "df2.head(2)"
   ]
  },
  {
   "cell_type": "markdown",
   "metadata": {},
   "source": [
    "### Problem 6: Train/Test Split\n",
    "\n",
    "With your data prepared, split it into a train and test set."
   ]
  },
  {
   "cell_type": "code",
   "execution_count": 263,
   "metadata": {},
   "outputs": [],
   "source": [
    "X = df2.iloc[: , :-1].values\n",
    "y = df2.iloc[: , -1].values\n",
    "X_train, X_test, y_train, y_test = train_test_split(X, y, random_state = 42)\n"
   ]
  },
  {
   "cell_type": "code",
   "execution_count": 213,
   "metadata": {},
   "outputs": [
    {
     "name": "stdout",
     "output_type": "stream",
     "text": [
      "(30891, 28)\n",
      "(10297, 28)\n"
     ]
    }
   ],
   "source": [
    "print(X_train.shape)\n",
    "print(X_test.shape)"
   ]
  },
  {
   "cell_type": "markdown",
   "metadata": {},
   "source": [
    "### Problem 7: A Baseline Model\n",
    "\n",
    "Before we build our first model, we want to establish a baseline.  What is the baseline performance that our classifier should aim to beat?"
   ]
  },
  {
   "cell_type": "markdown",
   "metadata": {},
   "source": [
    "# DT\n",
    "Decision Tree(DT)\n",
    "\n",
    "Regression and classification problems of the data can also be solved using decision tree baseline model,"
   ]
  },
  {
   "cell_type": "code",
   "execution_count": 279,
   "metadata": {},
   "outputs": [
    {
     "data": {
      "text/plain": [
       "Pipeline(steps=[('scale', StandardScaler()),\n",
       "                ('dtree',\n",
       "                 DecisionTreeClassifier(max_depth=2, min_samples_leaf=2,\n",
       "                                        min_samples_split=0.05,\n",
       "                                        random_state=42))])"
      ]
     },
     "execution_count": 279,
     "metadata": {},
     "output_type": "execute_result"
    }
   ],
   "source": [
    "# Using DecisionTree Classifier\n",
    "dtree_pipe = Pipeline([('scale', StandardScaler()), ('dtree', DecisionTreeClassifier(random_state=42, criterion='gini',\n",
    "                                                                                max_depth = 2, min_samples_leaf = 2,\n",
    "                                                                                min_samples_split = 0.05))])\n",
    "dtree_pipe"
   ]
  },
  {
   "cell_type": "code",
   "execution_count": 266,
   "metadata": {},
   "outputs": [],
   "source": [
    "# Overfiting the Decision Tree of the split function\n",
    "dtree = DecisionTreeClassifier().fit(X_train, y_train)\n",
    "dtree.score(X_test, y_test)\n",
    "pred_dtree = dtree.predict(X_test)"
   ]
  },
  {
   "cell_type": "markdown",
   "metadata": {},
   "source": [
    "# Path complexity\n",
    "The goal is to simplify the complexity of the paths based on a variety of split possibilities in a way that emphasizes the alphas and impurities of the data. that helps in identifying the data's optimal ccp_alpha hyperparameter and also allows us to utilize DecisionTreeClassifier to improve it considering the cost of complexity paths."
   ]
  },
  {
   "cell_type": "code",
   "execution_count": 216,
   "metadata": {},
   "outputs": [
    {
     "data": {
      "text/plain": [
       "{'ccp_alphas': array([ 0.00000000e+00, -1.08420217e-19, -5.42101086e-20, ...,\n",
       "         1.50919466e-03,  1.84650456e-03,  5.16598268e-03]),\n",
       " 'impurities': array([0.12134172, 0.12134172, 0.12134172, ..., 0.19326492, 0.19511143,\n",
       "        0.20027741])}"
      ]
     },
     "execution_count": 216,
     "metadata": {},
     "output_type": "execute_result"
    }
   ],
   "source": [
    "path = dtree.cost_complexity_pruning_path(X_train, y_train)\n",
    "path"
   ]
  },
  {
   "cell_type": "code",
   "execution_count": 218,
   "metadata": {},
   "outputs": [
    {
     "data": {
      "text/plain": [
       "0.9169661066329999"
      ]
     },
     "execution_count": 218,
     "metadata": {},
     "output_type": "execute_result"
    }
   ],
   "source": [
    "# the path with alphas & impurities of the split function with higher score\n",
    "ccp_alphas = path.ccp_alphas\n",
    "impurities = path.impurities\n",
    "dtree_score = dtree.score(X_train, y_train)\n",
    "dtree_score"
   ]
  },
  {
   "cell_type": "markdown",
   "metadata": {},
   "source": [
    "# Plot Decision Tree\n",
    "At a maximum depth of 4, the decision tree's best prediction has an accuracy of 89%; however, as depth increases, the number of nodes exhibited may become overfitted.the effective Alphas shown 4 nodes at the total Impurity of leaves with 0.19."
   ]
  },
  {
   "cell_type": "code",
   "execution_count": 219,
   "metadata": {},
   "outputs": [
    {
     "data": {
      "image/png": "[encoded data removed]",
      "text/plain": [
       "<Figure size 720x576 with 1 Axes>"
      ]
     },
     "metadata": {
      "needs_background": "light"
     },
     "output_type": "display_data"
    }
   ],
   "source": [
    "# Decision Tree Plot shown with nodes\n",
    "fig, ax = plt.subplots(figsize=(10,8))\n",
    "plt.step(ccp_alphas[:-1], impurities[:-1])\n",
    "#plt.step(ccp_alphas[:-1], impurities[:-1],'--o', ax=ax[1])\n",
    "plt.title('Impurity vs. Effective Alpha')\n",
    "plt.xlabel('Effective Alphas')\n",
    "plt.ylabel('Impurity of Leaves');"
   ]
  },
  {
   "cell_type": "markdown",
   "metadata": {},
   "source": [
    "# Tree Display\n",
    "The tree depth with max_depth=1 plot:\n",
    "Out of the sample of 30891, the class of the target value resulted with \"No\" were 27021, & the value of \"Yes\" were 3487. These decision tree reveals that the overwhelming majority of customers are unable to repay their loans.\n"
   ]
  },
  {
   "cell_type": "code",
   "execution_count": 220,
   "metadata": {},
   "outputs": [
    {
     "data": {
      "image/png": "[encoded data removed]",
      "text/plain": [
       "<Figure size 432x288 with 1 Axes>"
      ]
     },
     "metadata": {
      "needs_background": "light"
     },
     "output_type": "display_data"
    }
   ],
   "source": [
    "dtree = DecisionTreeClassifier(max_depth=1, random_state=42).fit(X_train, y_train)\n",
    "dtree_plot = plot_tree(dtree)"
   ]
  },
  {
   "cell_type": "markdown",
   "metadata": {},
   "source": [
    "# knn\n",
    "K-Nearest Neighbors Model"
   ]
  },
  {
   "cell_type": "code",
   "execution_count": 222,
   "metadata": {},
   "outputs": [],
   "source": [
    "# Using KNeighbors Classifier\n",
    "\n",
    "digits = datasets.load_digits()\n",
    "n_samples = len(digits.images)\n",
    "data = digits.images.reshape((n_samples, -1))\n",
    "knn_clf = KNeighborsClassifier()\n",
    "X_train_knn, X_test_knn, y_train_knn, y_test_knn = train_test_split(data, digits.target, test_size=0.5, shuffle=False)\n",
    "knn_clf.fit(X_train_knn, y_train_knn)\n",
    "predicted_KNN = knn_clf.predict(X_test_knn)"
   ]
  },
  {
   "cell_type": "code",
   "execution_count": 224,
   "metadata": {},
   "outputs": [
    {
     "name": "stdout",
     "output_type": "stream",
     "text": [
      "Test 0.9555061179087876\n",
      "Train 0.9888641425389755\n",
      "KNN_score 0.9555061179087876\n"
     ]
    }
   ],
   "source": [
    "# Using KNeighbors Classifier with the Pipeline\n",
    "# the accuracy of the split function & score of the fit \n",
    "\n",
    "knn_pipe = Pipeline([(\"knn\", KNeighborsClassifier())])\n",
    "\n",
    "knn_pipe.fit(X_train_knn, y_train_knn)\n",
    "knn_score = knn_pipe.score(X_train_knn, y_train_knn)\n",
    "\n",
    "accuracy_te_knn = knn_pipe.score(X_test_knn, y_test_knn)\n",
    "accuracy_tr_knn = knn_pipe.score(X_train_knn, y_train_knn)\n",
    "print(f\"Test {accuracy_te_knn}\")\n",
    "print(f\"Train {accuracy_tr_knn}\")\n",
    "print('KNN_score', knn_clf.score(X_test_knn,y_test_knn))"
   ]
  },
  {
   "cell_type": "markdown",
   "metadata": {},
   "source": [
    "# i.\n",
    "KNN Confusion Matrix\n",
    "\n",
    "When n_neighbors=6 at the highest value of 91, the confusion matrix showed the K-Nearest Neighbors (KNN) the maximum or the best score."
   ]
  },
  {
   "cell_type": "code",
   "execution_count": 226,
   "metadata": {},
   "outputs": [
    {
     "data": {
      "image/png": "[encoded data removed]",
      "text/plain": [
       "<Figure size 432x288 with 2 Axes>"
      ]
     },
     "metadata": {
      "needs_background": "light"
     },
     "output_type": "display_data"
    }
   ],
   "source": [
    "#visualizing results the KNN using Confusion Matrix\n",
    "preds_knn = knn_pipe.predict(X_test_knn)\n",
    "\n",
    "confusion_mat = confusion_matrix(y_test_knn, preds_knn)\n",
    "disp = ConfusionMatrixDisplay(confusion_matrix = confusion_mat)\n",
    "disp.plot()\n",
    "plt.title(\"KNeighbors\")\n",
    "plt.show()"
   ]
  },
  {
   "cell_type": "markdown",
   "metadata": {},
   "source": [
    "### Problem 8: A Simple Model\n",
    "\n",
    "Use Logistic Regression to build a basic model on your data.  "
   ]
  },
  {
   "cell_type": "markdown",
   "metadata": {},
   "source": [
    "# i. LR\n",
    "Logistic Regression Confusion Matrix\n",
    "\n",
    "When at the prediction level of 6 at the highest value of 90, the confusion matrix showed the Logistic Regression (LR) the maximum or the best score."
   ]
  },
  {
   "cell_type": "code",
   "execution_count": 227,
   "metadata": {},
   "outputs": [],
   "source": [
    "# Using Logistic Regression with split function\n",
    "digits = datasets.load_digits()\n",
    "n_samples = len(digits.images)\n",
    "data_lr = digits.images.reshape((n_samples, -1))\n",
    "clf_lr = LogisticRegression()\n",
    "X_train_lr, X_test_lr, y_train_lr, y_test_lr = train_test_split(data, digits.target, test_size=0.5, shuffle=False)\n",
    "clf_lr.fit(X_train_lr, y_train_lr)\n",
    "predicted_LR = clf_lr.predict(X_test_lr)"
   ]
  },
  {
   "cell_type": "code",
   "execution_count": 228,
   "metadata": {},
   "outputs": [
    {
     "data": {
      "image/png": "[encoded data removed]",
      "text/plain": [
       "<Figure size 432x288 with 2 Axes>"
      ]
     },
     "metadata": {
      "needs_background": "light"
     },
     "output_type": "display_data"
    }
   ],
   "source": [
    "# Using Logistic Regression with the Pipeline\n",
    "lr_pipe = Pipeline([('scale', StandardScaler()),('lr',LogisticRegression())]).fit(X_train_lr, y_train_lr)\n",
    "lr_score = lr_pipe.score(X_train_lr, y_train_lr)\n",
    "\n",
    "preds_lr = lr_pipe.predict(X_test_lr)\n",
    "\n",
    "confusion_mat = confusion_matrix(y_test_lr, preds_lr)\n",
    "disp = ConfusionMatrixDisplay(confusion_matrix = confusion_mat)\n",
    "disp.plot()\n",
    "plt.title(\"LOGISTIC REGRESSION\")\n",
    "plt.show()"
   ]
  },
  {
   "cell_type": "code",
   "execution_count": 229,
   "metadata": {},
   "outputs": [
    {
     "name": "stdout",
     "output_type": "stream",
     "text": [
      "Test 0.9388209121245829\n",
      "Train 1.0\n",
      "LR_score 0.9299221357063404\n"
     ]
    }
   ],
   "source": [
    "# the accuracy & score of the Logistic Regression of the split function\n",
    "accuracy_te_LR = lr_pipe.score(X_test_lr, y_test_lr)\n",
    "accuracy_tr_LR = lr_pipe.score(X_train_lr, y_train_lr)\n",
    "print(f\"Test {accuracy_te_LR}\")\n",
    "print(f\"Train {accuracy_tr_LR}\")\n",
    "print('LR_score', clf_lr.score(X_test_lr,y_test_lr))\n"
   ]
  },
  {
   "cell_type": "markdown",
   "metadata": {},
   "source": [
    "# i. SVM\n",
    "Support Vector Machine (SVM) Confusion Matrix\n",
    "\n",
    "When the prediction level is 6,at the highest value of 47, the confusion matrix showed the Support Vector Machine (SVM)the maximum or the best score."
   ]
  },
  {
   "cell_type": "code",
   "execution_count": 230,
   "metadata": {},
   "outputs": [],
   "source": [
    "# Using Support Vector Machine with the split function\n",
    "digits = datasets.load_digits()\n",
    "n_samples = len(digits.images)\n",
    "data = digits.images.reshape((n_samples, -1))\n",
    "clf_svc = SVC()\n",
    "X_train_svc, X_test_svc, y_train_svc, y_test_svc = train_test_split(data, digits.target, shuffle=False)\n",
    "clf_svc.fit(X_train_svc, y_train_svc)\n",
    "predicted_svc = clf_svc.predict(X_test_svc)\n",
    "#np.sum(clf_svc.cv_results_['mean_fit_time'])"
   ]
  },
  {
   "cell_type": "code",
   "execution_count": 231,
   "metadata": {},
   "outputs": [
    {
     "data": {
      "image/png": "[encoded data removed]",
      "text/plain": [
       "<Figure size 432x288 with 2 Axes>"
      ]
     },
     "metadata": {
      "needs_background": "light"
     },
     "output_type": "display_data"
    }
   ],
   "source": [
    "# Using Support Vector Machine with the pipeline\n",
    "svc_pipe = Pipeline([('scale', StandardScaler()),('svc',SVC())]).fit(X_train_svc, y_train_svc)\n",
    "\n",
    "preds_svc = svc_pipe.predict(X_test_svc)\n",
    "svc_score = svc_pipe.score(X_train_svc, y_train_svc)\n",
    "\n",
    "confusion_mat = confusion_matrix(y_test_svc, preds_svc)\n",
    "disp = ConfusionMatrixDisplay(confusion_matrix = confusion_mat)\n",
    "disp.plot()\n",
    "plt.title(\"Support Vector\")\n",
    "plt.show()"
   ]
  },
  {
   "cell_type": "code",
   "execution_count": 232,
   "metadata": {},
   "outputs": [
    {
     "name": "stdout",
     "output_type": "stream",
     "text": [
      "Test 0.9388209121245829\n",
      "Train 1.0\n",
      "SVC_score 0.9488888888888889\n"
     ]
    }
   ],
   "source": [
    "# the accuracy & score of the Support Vector Machine (SVM) of the split function\n",
    "accuracy_te_SVC = svc_pipe.score(X_test_svc, y_test_svc)\n",
    "accuracy_tr_SVC = svc_pipe.score(X_train_svc, y_train_svc)\n",
    "print(f\"Test {accuracy_te_LR}\")\n",
    "print(f\"Train {accuracy_tr_LR}\")\n",
    "print('SVC_score', clf_svc.score(X_test_svc,y_test_svc))\n"
   ]
  },
  {
   "cell_type": "markdown",
   "metadata": {},
   "source": [
    "### Problem 9: Score the Model\n",
    "\n",
    "What is the accuracy of your model?"
   ]
  },
  {
   "cell_type": "markdown",
   "metadata": {},
   "source": [
    "# Score Display\n",
    "the plot below shown: \n",
    "\n",
    "At a maximum depth of 4, the decision tree's best prediction has an accuracy of 89%; however, as depth increases, the number of nodes exhibited may become overfitted."
   ]
  },
  {
   "cell_type": "code",
   "execution_count": 233,
   "metadata": {},
   "outputs": [],
   "source": [
    "dtree_2 = DecisionTreeClassifier(random_state=42).fit(X_train, y_train)\n",
    "max_depth = dtree_2.get_depth()"
   ]
  },
  {
   "cell_type": "code",
   "execution_count": 234,
   "metadata": {},
   "outputs": [],
   "source": [
    "train_accu = []\n",
    "test_accu = []\n",
    "for d in range(1,max_depth+1,1):\n",
    "    dtree_3 = DecisionTreeClassifier(random_state=42, max_depth=d).fit(X_train, y_train)\n",
    "    train_accu.append(dtree_3.score(X_train, y_train))\n",
    "    test_accu.append(dtree_3.score(X_test, y_test))"
   ]
  },
  {
   "cell_type": "code",
   "execution_count": 236,
   "metadata": {},
   "outputs": [
    {
     "data": {
      "text/plain": [
       "Text(0.5, 1.0, 'Depth vs. Score')"
      ]
     },
     "execution_count": 236,
     "metadata": {},
     "output_type": "execute_result"
    },
    {
     "data": {
      "image/png": "[encoded data removed]",
      "text/plain": [
       "<Figure size 720x648 with 1 Axes>"
      ]
     },
     "metadata": {
      "needs_background": "light"
     },
     "output_type": "display_data"
    }
   ],
   "source": [
    "# the best score with overfit\n",
    "plt.subplots(figsize = (10, 9))\n",
    "plt.step(range(1,max_depth+1,1), train_accu, '-o', label = 'Train')\n",
    "plt.step(range(1,max_depth+1,1), test_accu, '-o', label = 'Test')\n",
    "plt.plot(np.argmax(test_accu)+1, max(test_accu), 'ro', markersize = 10, alpha = 0.4, label = 'Best Score')\n",
    "plt.xticks(range(1,max_depth+1,1), rotation = 0)\n",
    "plt.legend()\n",
    "plt.grid()\n",
    "plt.xlabel('Depth')\n",
    "plt.ylabel('Score')\n",
    "plt.title('Depth vs. Score', fontsize=12)\n"
   ]
  },
  {
   "cell_type": "markdown",
   "metadata": {},
   "source": [
    "# Classification Report of Decision Tree \n",
    "The classification report's Decision Tree model considers the number 10297 into consideration. The SVM model takes into consideration a sample size of 450, the Logistic Regression model takes into consideration an 899 sample, and the KNN model also accounts for an 899 sample. Therefore, for our score model we consider the classification of the decision tree since the sample is bigger."
   ]
  },
  {
   "cell_type": "code",
   "execution_count": 278,
   "metadata": {},
   "outputs": [
    {
     "name": "stdout",
     "output_type": "stream",
     "text": [
      "              precision    recall  f1-score   support\n",
      "\n",
      "           0       0.96      0.89      0.93      9856\n",
      "           1       0.08      0.22      0.12       441\n",
      "\n",
      "    accuracy                           0.86     10297\n",
      "   macro avg       0.52      0.56      0.52     10297\n",
      "weighted avg       0.92      0.86      0.89     10297\n",
      "\n"
     ]
    }
   ],
   "source": [
    "#Decision Tree (DT) the report accuracy with the best score of sample size\n",
    "print(classification_report(pred_dtree, y_test))"
   ]
  },
  {
   "cell_type": "code",
   "execution_count": 275,
   "metadata": {},
   "outputs": [],
   "source": [
    "#SVM\n",
    "#print(\"Classification report:\\n\\n{}\".format(classification_report(y_test_svc, predicted_svc)))\n"
   ]
  },
  {
   "cell_type": "code",
   "execution_count": 273,
   "metadata": {},
   "outputs": [],
   "source": [
    "#LR\n",
    "#print(\"Classification report:\\n\\n{}\".format(classification_report(y_test_lr, predicted_LR)))"
   ]
  },
  {
   "cell_type": "code",
   "execution_count": 274,
   "metadata": {},
   "outputs": [],
   "source": [
    "#KNN\n",
    "#print(\"Classification report:\\n\\n{}\".format(classification_report(y_test_knn, predicted_KNN)))\n",
    "#print(classification_report(predicted_KNN, y_test_knn))"
   ]
  },
  {
   "cell_type": "markdown",
   "metadata": {},
   "source": [
    "### Problem 10: Model Comparisons\n",
    "\n",
    "Now, we aim to compare the performance of the Logistic Regression model to our KNN algorithm, Decision Tree, and SVM models.  Using the default settings for each of the models, fit and score each.  Also, be sure to compare the fit time of each of the models.  Present your findings in a `DataFrame` similar to that below:\n",
    "\n",
    "| Model | Train Time | Train Accuracy | Test Accuracy |\n",
    "| ----- | ---------- | -------------  | -----------   |\n",
    "|     |    |.     |.     |"
   ]
  },
  {
   "cell_type": "markdown",
   "metadata": {},
   "source": [
    "# Compare Model\n",
    "the table shown the best Train accuracy with the SVM Model, on the other hand the best Test accuracy  with the KNN Model, i'm really struggling to find the best Train Time of my Models"
   ]
  },
  {
   "cell_type": "code",
   "execution_count": 242,
   "metadata": {},
   "outputs": [
    {
     "data": {
      "text/html": [
       "<div>\n",
       "<style scoped>\n",
       "    .dataframe tbody tr th:only-of-type {\n",
       "        vertical-align: middle;\n",
       "    }\n",
       "\n",
       "    .dataframe tbody tr th {\n",
       "        vertical-align: top;\n",
       "    }\n",
       "\n",
       "    .dataframe thead th {\n",
       "        text-align: right;\n",
       "    }\n",
       "</style>\n",
       "<table border=\"1\" class=\"dataframe\">\n",
       "  <thead>\n",
       "    <tr style=\"text-align: right;\">\n",
       "      <th></th>\n",
       "      <th>Model</th>\n",
       "      <th>Train Time</th>\n",
       "      <th>Train Accuracy</th>\n",
       "      <th>Test Accuracy</th>\n",
       "    </tr>\n",
       "  </thead>\n",
       "  <tbody>\n",
       "    <tr>\n",
       "      <th>0</th>\n",
       "      <td>Logistic Regression</td>\n",
       "      <td>1.000000</td>\n",
       "      <td>1.0</td>\n",
       "      <td>0.938821</td>\n",
       "    </tr>\n",
       "    <tr>\n",
       "      <th>1</th>\n",
       "      <td>KNN</td>\n",
       "      <td>0.988864</td>\n",
       "      <td>0.988864</td>\n",
       "      <td>0.955506</td>\n",
       "    </tr>\n",
       "    <tr>\n",
       "      <th>2</th>\n",
       "      <td>Decision Tree</td>\n",
       "      <td>0.916966</td>\n",
       "      <td>[0.887119225664433, 0.887119225664433, 0.88715...</td>\n",
       "      <td>[0.8880256385354958, 0.8880256385354958, 0.887...</td>\n",
       "    </tr>\n",
       "    <tr>\n",
       "      <th>3</th>\n",
       "      <td>SVM</td>\n",
       "      <td>0.997773</td>\n",
       "      <td>0.997773</td>\n",
       "      <td>0.953333</td>\n",
       "    </tr>\n",
       "  </tbody>\n",
       "</table>\n",
       "</div>"
      ],
      "text/plain": [
       "                 Model  Train Time  \\\n",
       "0  Logistic Regression    1.000000   \n",
       "1                  KNN    0.988864   \n",
       "2        Decision Tree    0.916966   \n",
       "3                  SVM    0.997773   \n",
       "\n",
       "                                      Train Accuracy  \\\n",
       "0                                                1.0   \n",
       "1                                           0.988864   \n",
       "2  [0.887119225664433, 0.887119225664433, 0.88715...   \n",
       "3                                           0.997773   \n",
       "\n",
       "                                       Test Accuracy  \n",
       "0                                           0.938821  \n",
       "1                                           0.955506  \n",
       "2  [0.8880256385354958, 0.8880256385354958, 0.887...  \n",
       "3                                           0.953333  "
      ]
     },
     "execution_count": 242,
     "metadata": {},
     "output_type": "execute_result"
    }
   ],
   "source": [
    "result_df = pd.DataFrame({'Model': ['Logistic Regression','KNN', 'Decision Tree', 'SVM'],\n",
    "                         'Train Time': [lr_score, knn_score, dtree_score, svc_score], 'Train Accuracy': [accuracy_tr_LR, accuracy_tr_knn,train_accu, accuracy_tr_SVC], 'Test Accuracy': [accuracy_te_LR, accuracy_te_knn, test_accu, accuracy_te_SVC]})\n",
    "result_df"
   ]
  },
  {
   "cell_type": "markdown",
   "metadata": {},
   "source": [
    "### Problem 11: Improving the Model\n",
    "\n",
    "Now that we have some basic models on the board, we want to try to improve these.  Below, we list a few things to explore in this pursuit.\n",
    "\n",
    "- More feature engineering and exploration.  For example, should we keep the gender feature?  Why or why not?\n",
    "- Hyperparameter tuning and grid search.  All of our models have additional hyperparameters to tune and explore.  For example the number of neighbors in KNN or the maximum depth of a Decision Tree.  \n",
    "- Adjust your performance metric"
   ]
  },
  {
   "cell_type": "markdown",
   "metadata": {},
   "source": [
    "# i.\n",
    "# Gender Feature\n",
    "The Gender feature in the dataset doesn't affect the exploration of the data, since the data score depends based on the other features such as job, loan & so on"
   ]
  },
  {
   "cell_type": "markdown",
   "metadata": {},
   "source": [
    "# ii.\n",
    "# Hyperparameter tune & explore\n",
    "The model in which I used the recommended parameters had the shortest computation time, and it retrieved best test accuracy of 89%. I would choose this model of Decision Tree"
   ]
  },
  {
   "cell_type": "code",
   "execution_count": 243,
   "metadata": {},
   "outputs": [],
   "source": [
    "# assume some random values to the parameters\n",
    "params = {'max_depth': [2, 4, 6, 8, 9, 11],\n",
    "          'min_samples_split': [0.1, 0.3, 0.005],\n",
    "          'criterion': ['gini', 'entropy'],\n",
    "          'min_samples_leaf': [2, 3, 4, 5]\n",
    "         }\n"
   ]
  },
  {
   "cell_type": "markdown",
   "metadata": {},
   "source": [
    "## a.\n",
    "\n",
    "The Best Fit of Model for the feature of parameters for Grid Search.\n",
    "The same model was used by all Four methods Classifiers:\n",
    "\n",
    "## i.\n",
    "For all execution results, their train and test accuracy scores were the same, but the model parameters were chosen separately by each search Grid Search method.\n"
   ]
  },
  {
   "cell_type": "markdown",
   "metadata": {},
   "source": [
    "# 11.1\n",
    "GRID SEARCH MODEL with Decision Tree"
   ]
  },
  {
   "cell_type": "code",
   "execution_count": 244,
   "metadata": {},
   "outputs": [
    {
     "data": {
      "text/plain": [
       "GridSearchCV(estimator=DecisionTreeClassifier(random_state=42),\n",
       "             param_grid={'criterion': ['gini', 'entropy'],\n",
       "                         'max_depth': [2, 4, 6, 8, 9, 11],\n",
       "                         'min_samples_leaf': [2, 3, 4, 5],\n",
       "                         'min_samples_split': [0.1, 0.3, 0.005]})"
      ]
     },
     "execution_count": 244,
     "metadata": {},
     "output_type": "execute_result"
    }
   ],
   "source": [
    "# the intiation of the data with intialize method & also comparing the GridSearch\n",
    "#compare using different the GridSearch methods\n",
    "## GridSearchCV\n",
    "dtree4 = DecisionTreeClassifier(random_state=42)\n",
    "Gr_dtree4 = GridSearchCV(dtree4, param_grid=params)\n",
    "Gr_dtree4.fit(X_train, y_train)"
   ]
  },
  {
   "cell_type": "code",
   "execution_count": 246,
   "metadata": {},
   "outputs": [
    {
     "name": "stdout",
     "output_type": "stream",
     "text": [
      "Train Accuracy:  0.88712\n",
      "Test Accuracy:  0.88803\n",
      "Best Params of Tree: {'criterion': 'gini', 'max_depth': 2, 'min_samples_leaf': 2, 'min_samples_split': 0.1}\n"
     ]
    }
   ],
   "source": [
    "# the accuracy of the split function with best overfit\n",
    "Gr_train_accu = Gr_dtree4.score(X_train, y_train)\n",
    "Gr_test_accu = Gr_dtree4.score(X_test, y_test)\n",
    "best_params = Gr_dtree4.best_params_\n",
    "\n",
    "print(f'Train Accuracy: {Gr_train_accu: .5f}')\n",
    "print(f'Test Accuracy: {Gr_test_accu: .5f}')\n",
    "print(f'Best Params of Tree: {best_params}')"
   ]
  },
  {
   "cell_type": "markdown",
   "metadata": {},
   "source": [
    "# Adjust your performance metric"
   ]
  },
  {
   "cell_type": "code",
   "execution_count": 247,
   "metadata": {},
   "outputs": [
    {
     "name": "stdout",
     "output_type": "stream",
     "text": [
      "              precision    recall  f1-score   support\n",
      "\n",
      "           0       1.00      0.89      0.94     10297\n",
      "           1       0.00      0.00      0.00         0\n",
      "\n",
      "    accuracy                           0.89     10297\n",
      "   macro avg       0.50      0.44      0.47     10297\n",
      "weighted avg       1.00      0.89      0.94     10297\n",
      "\n"
     ]
    }
   ],
   "source": [
    "# Report of the predict classification of the split function \n",
    "grid_predictions = Gr_dtree4.predict(X_test)\n",
    "print(classification_report(grid_predictions, y_test))\n"
   ]
  },
  {
   "cell_type": "markdown",
   "metadata": {},
   "source": [
    "# 11.2\n",
    "Randomized Search Model "
   ]
  },
  {
   "cell_type": "code",
   "execution_count": 248,
   "metadata": {},
   "outputs": [
    {
     "name": "stdout",
     "output_type": "stream",
     "text": [
      "Train Accuracy:  0.88712\n",
      "Test Accuracy:  0.88803\n",
      "Best Params of Tree: {'min_samples_split': 0.1, 'min_samples_leaf': 3, 'max_depth': 6, 'criterion': 'gini'}\n"
     ]
    }
   ],
   "source": [
    "# RandomizedSearchCV Method\n",
    "R_grid = RandomizedSearchCV(dtree4, param_distributions=params).fit(X_train, y_train)\n",
    "R_grid_train_accu = R_grid.score(X_train, y_train)\n",
    "R_grid_test_accu = R_grid.score(X_test, y_test)\n",
    "R_best_params = R_grid.best_params_\n",
    "\n",
    "print(f'Train Accuracy: {R_grid_train_accu: .5f}')\n",
    "print(f'Test Accuracy: {R_grid_test_accu: .5f}')\n",
    "print(f'Best Params of Tree: {R_best_params}')"
   ]
  },
  {
   "cell_type": "code",
   "execution_count": 98,
   "metadata": {},
   "outputs": [
    {
     "name": "stdout",
     "output_type": "stream",
     "text": [
      "              precision    recall  f1-score   support\n",
      "\n",
      "           0       1.00      0.89      0.94     12357\n",
      "           1       0.00      0.00      0.00         0\n",
      "\n",
      "    accuracy                           0.89     12357\n",
      "   macro avg       0.50      0.44      0.47     12357\n",
      "weighted avg       1.00      0.89      0.94     12357\n",
      "\n"
     ]
    }
   ],
   "source": [
    "R_grid_predictions = R_grid.predict(X_test)\n",
    "print(classification_report(R_grid_predictions, y_test))"
   ]
  },
  {
   "cell_type": "markdown",
   "metadata": {},
   "source": [
    "# 11.3\n",
    "Halving Grid Search Model"
   ]
  },
  {
   "cell_type": "code",
   "execution_count": 250,
   "metadata": {},
   "outputs": [
    {
     "name": "stdout",
     "output_type": "stream",
     "text": [
      "Train Accuracy:  0.88712\n",
      "Test Accuracy:  0.88803\n",
      "Best Params of Tree: {'criterion': 'gini', 'max_depth': 6, 'min_samples_leaf': 3, 'min_samples_split': 0.3}\n"
     ]
    }
   ],
   "source": [
    "# HalvingGridSearchCV Method \n",
    "H_grid = HalvingGridSearchCV(dtree4, param_grid=params).fit(X_train, y_train)\n",
    "H_grid_train_accu = H_grid.score(X_train, y_train)\n",
    "H_grid_test_accu = H_grid.score(X_test, y_test)\n",
    "H_best_params = H_grid.best_params_\n",
    "\n",
    "print(f'Train Accuracy: {H_grid_train_accu: .5f}')\n",
    "print(f'Test Accuracy: {H_grid_test_accu: .5f}')\n",
    "print(f'Best Params of Tree: {H_best_params}')"
   ]
  },
  {
   "cell_type": "code",
   "execution_count": 251,
   "metadata": {},
   "outputs": [
    {
     "name": "stdout",
     "output_type": "stream",
     "text": [
      "              precision    recall  f1-score   support\n",
      "\n",
      "           0       1.00      0.89      0.94     10297\n",
      "           1       0.00      0.00      0.00         0\n",
      "\n",
      "    accuracy                           0.89     10297\n",
      "   macro avg       0.50      0.44      0.47     10297\n",
      "weighted avg       1.00      0.89      0.94     10297\n",
      "\n"
     ]
    }
   ],
   "source": [
    "H_grid_predictions = H_grid.predict(X_test)\n",
    "print(classification_report(H_grid_predictions, y_test))"
   ]
  },
  {
   "cell_type": "markdown",
   "metadata": {},
   "source": [
    "# 11.4\n",
    "Halving Random Search Model"
   ]
  },
  {
   "cell_type": "code",
   "execution_count": 252,
   "metadata": {},
   "outputs": [
    {
     "name": "stdout",
     "output_type": "stream",
     "text": [
      "Train Accuracy:  0.88712\n",
      "Test Accuracy:  0.88803\n",
      "Best Params of Tree: {'min_samples_split': 0.1, 'min_samples_leaf': 2, 'max_depth': 2, 'criterion': 'entropy'}\n"
     ]
    }
   ],
   "source": [
    "# HalvingRandomSearchCV Method\n",
    "HR_grid = HalvingRandomSearchCV(dtree4, param_distributions=params).fit(X_train, y_train)\n",
    "HR_grid_train_accu = HR_grid.score(X_train, y_train)\n",
    "HR_grid_test_accu = HR_grid.score(X_test, y_test)\n",
    "HR_best_params = HR_grid.best_params_\n",
    "\n",
    "print(f'Train Accuracy: {HR_grid_train_accu: .5f}')\n",
    "print(f'Test Accuracy: {HR_grid_test_accu: .5f}')\n",
    "print(f'Best Params of Tree: {HR_best_params}')\n"
   ]
  },
  {
   "cell_type": "code",
   "execution_count": 253,
   "metadata": {},
   "outputs": [
    {
     "name": "stdout",
     "output_type": "stream",
     "text": [
      "              precision    recall  f1-score   support\n",
      "\n",
      "           0       1.00      0.89      0.94     10297\n",
      "           1       0.00      0.00      0.00         0\n",
      "\n",
      "    accuracy                           0.89     10297\n",
      "   macro avg       0.50      0.44      0.47     10297\n",
      "weighted avg       1.00      0.89      0.94     10297\n",
      "\n"
     ]
    }
   ],
   "source": [
    "HR_grid_predictions = HR_grid.predict(X_test)\n",
    "print(classification_report(HR_grid_predictions, y_test))"
   ]
  },
  {
   "cell_type": "markdown",
   "metadata": {},
   "source": [
    "## ii. Lapsed Time\n",
    "i used the 'mean_fit_time' ,\n",
    "When I need to compare the times of all the plots, I computed the total elapsed time:"
   ]
  },
  {
   "cell_type": "code",
   "execution_count": 254,
   "metadata": {},
   "outputs": [],
   "source": [
    "# The Lapse Time run the loop of the GridSearch Method\n",
    "# Use the set of different metrics GridSearch Method all together!\n",
    "grid_all=['GridSearchCV','RandomizedSearchCV','HalvingGridSearchCV','HalvingRandomSearchCV']\n",
    "all_train_accu = [Gr_train_accu, R_grid_train_accu, H_grid_train_accu, HR_grid_train_accu]\n",
    "all_test_accu  = [Gr_test_accu, R_grid_test_accu, H_grid_test_accu, HR_grid_test_accu]\n",
    "elapsed_times = [np.sum(Gr_dtree4.cv_results_['mean_fit_time']), np.sum(R_grid.cv_results_['mean_fit_time']),\n",
    "                 np.sum(H_grid.cv_results_['mean_fit_time']), np.sum(HR_grid.cv_results_['mean_fit_time'])]\n",
    "depths = [best_params['max_depth'], R_best_params['max_depth'], H_best_params['max_depth'], HR_best_params['max_depth']]\n",
    "splits = [best_params['min_samples_split'], R_best_params['min_samples_split'],\n",
    "          H_best_params['min_samples_split'], HR_best_params['min_samples_split']]\n",
    "leaves = [best_params['min_samples_leaf'], R_best_params['min_samples_leaf'],\n",
    "          H_best_params['min_samples_leaf'], HR_best_params['min_samples_leaf']]\n"
   ]
  },
  {
   "cell_type": "markdown",
   "metadata": {},
   "source": [
    "## iii. the plot below\n",
    "according to all Grid Search methods for the best score, however the best score in terms of time! When compared to each model RandomizedSearchCV, HalvingRandomSearchCV, GridSearchCV and HalvingGridSearchCV.for all the data the best time score is HalvingRandomSearchCV that have much best time  score of the data."
   ]
  },
  {
   "cell_type": "code",
   "execution_count": 255,
   "metadata": {},
   "outputs": [
    {
     "data": {
      "text/plain": [
       "<matplotlib.legend.Legend at 0x1e736054040>"
      ]
     },
     "execution_count": 255,
     "metadata": {},
     "output_type": "execute_result"
    },
    {
     "data": {
      "image/png": "[encoded data removed]",
      "text/plain": [
       "<Figure size 1080x576 with 2 Axes>"
      ]
     },
     "metadata": {
      "needs_background": "light"
     },
     "output_type": "display_data"
    }
   ],
   "source": [
    "# plot accuracy and time elapsed\n",
    "fig, ax = plt.subplots(1, 2, figsize = (15, 8))\n",
    "ax[0].plot(grid_all, all_train_accu, '--o', label = 'Training Accu')\n",
    "ax[0].plot(grid_all, all_test_accu, '--o', label = 'Testing Accu')\n",
    "ax[0].plot(grid_all, [max(all_test_accu)]*len(grid_all), 'ro', markersize = 12, alpha = 0.4, label = 'Best Score')\n",
    "ax[0].tick_params(axis='x', rotation=90)\n",
    "ax[0].set_xlabel('Grid Search all')\n",
    "ax[0].set_ylabel('Accuracy Score')\n",
    "ax[0].set_title('Grid Search all vs. Accuracy Score')\n",
    "ax[0].legend()\n",
    "\n",
    "\n",
    "# time plot\n",
    "ax[1].plot(grid_all, elapsed_times, '--o', label = 'Elapsed Time')\n",
    "ax[1].tick_params(axis='x', rotation=90)\n",
    "ax[1].set_xlabel('Grid Search all')\n",
    "ax[1].set_ylabel('Cumulative Elapsed Time')\n",
    "ax[1].set_title(f'Grid Search all vs. Elapsed Time best @ {grid_all[np.argmin(elapsed_times)]}')\n",
    "ax[1].plot(np.argmin(elapsed_times), min(elapsed_times), 'ro', markersize = 12, alpha = 0.4, label = 'Best Time')\n",
    "ax[1].legend()\n"
   ]
  },
  {
   "cell_type": "markdown",
   "metadata": {},
   "source": [
    "## iv. Dataframe\n",
    "The Grid Search model's HalvingRandomSearchCV has the best performance, as evidenced by the lowest elapsed time, which indicates that the data flows faster, easier, and more smoothly. & also shown with max_depth =2"
   ]
  },
  {
   "cell_type": "code",
   "execution_count": 256,
   "metadata": {},
   "outputs": [
    {
     "data": {
      "text/html": [
       "<div>\n",
       "<style scoped>\n",
       "    .dataframe tbody tr th:only-of-type {\n",
       "        vertical-align: middle;\n",
       "    }\n",
       "\n",
       "    .dataframe tbody tr th {\n",
       "        vertical-align: top;\n",
       "    }\n",
       "\n",
       "    .dataframe thead th {\n",
       "        text-align: right;\n",
       "    }\n",
       "</style>\n",
       "<table border=\"1\" class=\"dataframe\">\n",
       "  <thead>\n",
       "    <tr style=\"text-align: right;\">\n",
       "      <th></th>\n",
       "      <th>GridSearchCV</th>\n",
       "      <th>RandomizedSearchCV</th>\n",
       "      <th>HalvingGridSearchCV</th>\n",
       "      <th>HalvingRandomSearchCV</th>\n",
       "    </tr>\n",
       "  </thead>\n",
       "  <tbody>\n",
       "    <tr>\n",
       "      <th>criterion</th>\n",
       "      <td>gini</td>\n",
       "      <td>gini</td>\n",
       "      <td>gini</td>\n",
       "      <td>entropy</td>\n",
       "    </tr>\n",
       "    <tr>\n",
       "      <th>max_depth</th>\n",
       "      <td>2</td>\n",
       "      <td>6</td>\n",
       "      <td>6</td>\n",
       "      <td>2</td>\n",
       "    </tr>\n",
       "    <tr>\n",
       "      <th>min_samples_leaf</th>\n",
       "      <td>2</td>\n",
       "      <td>3</td>\n",
       "      <td>3</td>\n",
       "      <td>2</td>\n",
       "    </tr>\n",
       "    <tr>\n",
       "      <th>min_samples_split</th>\n",
       "      <td>0.1</td>\n",
       "      <td>0.1</td>\n",
       "      <td>0.3</td>\n",
       "      <td>0.1</td>\n",
       "    </tr>\n",
       "    <tr>\n",
       "      <th>train_accs</th>\n",
       "      <td>0.887119</td>\n",
       "      <td>0.887119</td>\n",
       "      <td>0.887119</td>\n",
       "      <td>0.887119</td>\n",
       "    </tr>\n",
       "    <tr>\n",
       "      <th>test_accs</th>\n",
       "      <td>0.888026</td>\n",
       "      <td>0.888026</td>\n",
       "      <td>0.888026</td>\n",
       "      <td>0.888026</td>\n",
       "    </tr>\n",
       "    <tr>\n",
       "      <th>elapsed_times</th>\n",
       "      <td>10.250112</td>\n",
       "      <td>0.6834</td>\n",
       "      <td>0.569487</td>\n",
       "      <td>0.200933</td>\n",
       "    </tr>\n",
       "  </tbody>\n",
       "</table>\n",
       "</div>"
      ],
      "text/plain": [
       "                  GridSearchCV RandomizedSearchCV HalvingGridSearchCV  \\\n",
       "criterion                 gini               gini                gini   \n",
       "max_depth                    2                  6                   6   \n",
       "min_samples_leaf             2                  3                   3   \n",
       "min_samples_split          0.1                0.1                 0.3   \n",
       "train_accs            0.887119           0.887119            0.887119   \n",
       "test_accs             0.888026           0.888026            0.888026   \n",
       "elapsed_times        10.250112             0.6834            0.569487   \n",
       "\n",
       "                  HalvingRandomSearchCV  \n",
       "criterion                       entropy  \n",
       "max_depth                             2  \n",
       "min_samples_leaf                      2  \n",
       "min_samples_split                   0.1  \n",
       "train_accs                     0.887119  \n",
       "test_accs                      0.888026  \n",
       "elapsed_times                  0.200933  "
      ]
     },
     "execution_count": 256,
     "metadata": {},
     "output_type": "execute_result"
    }
   ],
   "source": [
    "results_df = pd.DataFrame({'GridSearchCV':pd.Series(best_params),\n",
    "                         'RandomizedSearchCV':pd.Series(R_best_params),\n",
    "                         'HalvingGridSearchCV':pd.Series(H_best_params),\n",
    "                         'HalvingRandomSearchCV':pd.Series(HR_best_params)\n",
    "                        })\n",
    "results_df.loc['train_accs', :] =  [Gr_train_accu,R_grid_train_accu,H_grid_train_accu, HR_grid_train_accu]\n",
    "results_df.loc['test_accs', :] =  [Gr_test_accu, R_grid_test_accu,H_grid_test_accu, HR_grid_test_accu]\n",
    "results_df.loc['elapsed_times', :] = [np.sum(Gr_dtree4.cv_results_['mean_fit_time']), np.sum(R_grid.cv_results_['mean_fit_time']),\n",
    "                 np.sum(H_grid.cv_results_['mean_fit_time']), np.sum(HR_grid.cv_results_['mean_fit_time'])]\n",
    "results_df\n"
   ]
  },
  {
   "cell_type": "markdown",
   "metadata": {},
   "source": [
    "## iv.a\n",
    "shown the plot below is the Decision Tree with max_depth=1, for each Grid Search method of classifiers"
   ]
  },
  {
   "cell_type": "code",
   "execution_count": 262,
   "metadata": {},
   "outputs": [
    {
     "data": {
      "text/plain": [
       "Text(0.5, 1.0, 'RandomizedSearch')"
      ]
     },
     "execution_count": 262,
     "metadata": {},
     "output_type": "execute_result"
    },
    {
     "data": {
      "image/png": "[encoded data removed]",
      "text/plain": [
       "<Figure size 1080x720 with 2 Axes>"
      ]
     },
     "metadata": {
      "needs_background": "light"
     },
     "output_type": "display_data"
    }
   ],
   "source": [
    "fig, ax = plt.subplots(1,2, figsize = (15, 10))\n",
    "plot_tree(DecisionTreeClassifier(max_depth = 1, random_state=42).fit(X_train, y_train), ax = ax[0], filled = True, feature_names=X);\n",
    "ax[0].set_title('GridSearch', fontsize = 12)\n",
    "plot_tree(DecisionTreeClassifier(max_depth = 1, random_state = 42).fit(X_train, y_train), filled = True, feature_names = X);\n",
    "ax[1].set_title('RandomizedSearch', fontsize = 12)"
   ]
  },
  {
   "cell_type": "code",
   "execution_count": null,
   "metadata": {},
   "outputs": [],
   "source": []
  },
  {
   "cell_type": "code",
   "execution_count": 261,
   "metadata": {},
   "outputs": [
    {
     "data": {
      "image/png": "[encoded data removed]",
      "text/plain": [
       "<Figure size 1080x720 with 2 Axes>"
      ]
     },
     "metadata": {
      "needs_background": "light"
     },
     "output_type": "display_data"
    }
   ],
   "source": [
    "fig, ax = plt.subplots(1,2, figsize = (15, 10))\n",
    "plot_tree(DecisionTreeClassifier(max_depth = 1, random_state = 22).fit(X_train, y_train), ax = ax[0], filled = True, feature_names = X);\n",
    "ax[0].set_title('HalvingGridSearch', fontsize = 12)\n",
    "\n",
    "plot_tree(DecisionTreeClassifier(max_depth = 1, random_state = 22).fit(X_train, y_train), filled = True, feature_names = X);\n",
    "ax[1].set_title('HalvingRandomSearch', fontsize = 12);"
   ]
  },
  {
   "cell_type": "markdown",
   "metadata": {},
   "source": [
    "##### Questions"
   ]
  }
 ],
 "metadata": {
  "kernelspec": {
   "display_name": "Python 3 (ipykernel)",
   "language": "python",
   "name": "python3"
  },
  "language_info": {
   "codemirror_mode": {
    "name": "ipython",
    "version": 3
   },
   "file_extension": ".py",
   "mimetype": "text/x-python",
   "name": "python",
   "nbconvert_exporter": "python",
   "pygments_lexer": "ipython3",
   "version": "3.9.7"
  },
  "widgets": {
   "application/vnd.jupyter.widget-state+json": {
    "state": {},
    "version_major": 2,
    "version_minor": 0
   }
  }
 },
 "nbformat": 4,
 "nbformat_minor": 4
}
